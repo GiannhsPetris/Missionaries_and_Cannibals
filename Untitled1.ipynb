{
  "nbformat": 4,
  "nbformat_minor": 0,
  "metadata": {
    "colab": {
      "name": "Untitled1.ipynb",
      "provenance": [],
      "collapsed_sections": [],
      "authorship_tag": "ABX9TyM4tnlYIXxh0tkE5nLALoYO",
      "include_colab_link": true
    },
    "kernelspec": {
      "name": "python3",
      "display_name": "Python 3"
    },
    "language_info": {
      "name": "python"
    }
  },
  "cells": [
    {
      "cell_type": "markdown",
      "metadata": {
        "id": "view-in-github",
        "colab_type": "text"
      },
      "source": [
        "<a href=\"https://colab.research.google.com/github/GiannhsPetris/Missionaries_and_Cannibals/blob/main/Untitled1.ipynb\" target=\"_parent\"><img src=\"https://colab.research.google.com/assets/colab-badge.svg\" alt=\"Open In Colab\"/></a>"
      ]
    },
    {
      "cell_type": "code",
      "metadata": {
        "id": "-ERAFT1bc28r"
      },
      "source": [
        "import pandas as pd\n",
        "import matplotlib\n",
        "import numpy as np\n",
        "import matplotlib.pyplot as plt"
      ],
      "execution_count": 1,
      "outputs": []
    },
    {
      "cell_type": "code",
      "metadata": {
        "id": "oTqBnDZBeCom"
      },
      "source": [
        "train = pd.read_csv('emnist-letters-train.csv')\n",
        "test = pd.read_csv('emnist-letters-test.csv')"
      ],
      "execution_count": 2,
      "outputs": []
    },
    {
      "cell_type": "code",
      "metadata": {
        "colab": {
          "base_uri": "https://localhost:8080/"
        },
        "id": "zIjjQ98dhkKX",
        "outputId": "c17e3e24-9cdb-4a98-cae7-027754d5ad1b"
      },
      "source": [
        "print(train.head())"
      ],
      "execution_count": 6,
      "outputs": [
        {
          "output_type": "stream",
          "text": [
            "   23  0  0.1  0.2  0.3  0.4  ...  0.410  0.411  0.412  0.413  0.414  0.415\n",
            "0   7  0    0    0    0    0  ...      0      0      0      0      0      0\n",
            "1  16  0    0    0    0    0  ...      0      0      0      0      0      0\n",
            "2  15  0    0    0    0    0  ...      0      0      0      0      0      0\n",
            "3  23  0    0    0    0    0  ...      0      0      0      0      0      0\n",
            "4  17  0    0    0    0    0  ...      0      0      0      0      0      0\n",
            "\n",
            "[5 rows x 785 columns]\n"
          ],
          "name": "stdout"
        }
      ]
    },
    {
      "cell_type": "code",
      "metadata": {
        "id": "xEJsPWDKhnmM"
      },
      "source": [
        "train_data = train.iloc[:, 1:]\n",
        "train_labels = train.iloc[:, 0]\n",
        "test_data = test.iloc[:, 1:]\n",
        "test_labels = test.iloc[:, 0]\n",
        "\n",
        "train_labels = pd.get_dummies(train_labels)\n",
        "test_labels = pd.get_dummies(test_labels)"
      ],
      "execution_count": 3,
      "outputs": []
    },
    {
      "cell_type": "code",
      "metadata": {
        "colab": {
          "base_uri": "https://localhost:8080/"
        },
        "id": "ynxlVNU7hsIg",
        "outputId": "9f957a70-f5e5-4b4a-b9b2-61f77ac4cfec"
      },
      "source": [
        "print(train_labels.head())"
      ],
      "execution_count": 8,
      "outputs": [
        {
          "output_type": "stream",
          "text": [
            "   1   2   3   4   5   6   7   8   9   ...  18  19  20  21  22  23  24  25  26\n",
            "0   0   0   0   0   0   0   1   0   0  ...   0   0   0   0   0   0   0   0   0\n",
            "1   0   0   0   0   0   0   0   0   0  ...   0   0   0   0   0   0   0   0   0\n",
            "2   0   0   0   0   0   0   0   0   0  ...   0   0   0   0   0   0   0   0   0\n",
            "3   0   0   0   0   0   0   0   0   0  ...   0   0   0   0   0   1   0   0   0\n",
            "4   0   0   0   0   0   0   0   0   0  ...   0   0   0   0   0   0   0   0   0\n",
            "\n",
            "[5 rows x 26 columns]\n"
          ],
          "name": "stdout"
        }
      ]
    },
    {
      "cell_type": "code",
      "metadata": {
        "id": "974OOciDh0X3"
      },
      "source": [
        "data_train = train_data.values\n",
        "labels_train = train_labels.values\n",
        "data_test = test_data.values\n",
        "labels_test = test_labels.values\n",
        "del train, test"
      ],
      "execution_count": 4,
      "outputs": []
    },
    {
      "cell_type": "code",
      "metadata": {
        "colab": {
          "base_uri": "https://localhost:8080/"
        },
        "id": "i4QDM8Jih3mM",
        "outputId": "24b336e4-14b9-420a-f86e-21660b5d9035"
      },
      "source": [
        "print(labels_train[:5])"
      ],
      "execution_count": 10,
      "outputs": [
        {
          "output_type": "stream",
          "text": [
            "[[0 0 0 0 0 0 1 0 0 0 0 0 0 0 0 0 0 0 0 0 0 0 0 0 0 0]\n",
            " [0 0 0 0 0 0 0 0 0 0 0 0 0 0 0 1 0 0 0 0 0 0 0 0 0 0]\n",
            " [0 0 0 0 0 0 0 0 0 0 0 0 0 0 1 0 0 0 0 0 0 0 0 0 0 0]\n",
            " [0 0 0 0 0 0 0 0 0 0 0 0 0 0 0 0 0 0 0 0 0 0 1 0 0 0]\n",
            " [0 0 0 0 0 0 0 0 0 0 0 0 0 0 0 0 1 0 0 0 0 0 0 0 0 0]]\n"
          ],
          "name": "stdout"
        }
      ]
    },
    {
      "cell_type": "code",
      "metadata": {
        "colab": {
          "base_uri": "https://localhost:8080/"
        },
        "id": "TmaPZ2Glh8Z-",
        "outputId": "24214e33-4625-40af-8d4d-09349e16ad4e"
      },
      "source": [
        "data_train.shape"
      ],
      "execution_count": 11,
      "outputs": [
        {
          "output_type": "execute_result",
          "data": {
            "text/plain": [
              "(88799, 784)"
            ]
          },
          "metadata": {
            "tags": []
          },
          "execution_count": 11
        }
      ]
    },
    {
      "cell_type": "code",
      "metadata": {
        "colab": {
          "base_uri": "https://localhost:8080/"
        },
        "id": "g9TbHLVgiaPd",
        "outputId": "f1146ae3-d3fa-42c2-bc3e-e326ace94331"
      },
      "source": [
        "data_train[3,200]"
      ],
      "execution_count": 14,
      "outputs": [
        {
          "output_type": "execute_result",
          "data": {
            "text/plain": [
              "37"
            ]
          },
          "metadata": {
            "tags": []
          },
          "execution_count": 14
        }
      ]
    },
    {
      "cell_type": "code",
      "metadata": {
        "id": "D3YUPTjVjDIR"
      },
      "source": [
        "def rotate(image):\n",
        "    image = image.reshape([28, 28])\n",
        "    image = np.fliplr(image)\n",
        "    image = np.rot90(image)\n",
        "    return image.reshape([28 * 28])\n",
        "data_train = np.apply_along_axis(rotate, 1, data_train)/255\n",
        "data_test = np.apply_along_axis(rotate, 1, data_test)/255"
      ],
      "execution_count": 5,
      "outputs": []
    },
    {
      "cell_type": "code",
      "metadata": {
        "id": "J17C-wb9kA2d"
      },
      "source": [
        "data_train[:5]"
      ],
      "execution_count": null,
      "outputs": []
    },
    {
      "cell_type": "code",
      "metadata": {
        "id": "xWSU3XsKkcob"
      },
      "source": [
        "data_train = np.array(data_train).reshape(-1,28,28)\n",
        "data_test = np.array(data_test).reshape(-1,28,28)"
      ],
      "execution_count": 6,
      "outputs": []
    },
    {
      "cell_type": "code",
      "metadata": {
        "colab": {
          "base_uri": "https://localhost:8080/"
        },
        "id": "lwi6OyVgkig6",
        "outputId": "158ea912-718f-4f07-d3ab-30f64d9b72e3"
      },
      "source": [
        "data_train.shape"
      ],
      "execution_count": 39,
      "outputs": [
        {
          "output_type": "execute_result",
          "data": {
            "text/plain": [
              "(88799, 28, 28)"
            ]
          },
          "metadata": {
            "tags": []
          },
          "execution_count": 39
        }
      ]
    },
    {
      "cell_type": "code",
      "metadata": {
        "id": "O4BWQ-i7sB-V"
      },
      "source": [
        "class_names = ['a', 'b', 'c', 'd', 'e', 'f', 'g', 'h', 'i', 'j', 'k', 'l', 'm', 'n', 'o', 'p', 'q', 'r', 's', 't', 'u', 'v', 'w', 'x', 'y', 'z']"
      ],
      "execution_count": 9,
      "outputs": []
    },
    {
      "cell_type": "code",
      "metadata": {
        "colab": {
          "base_uri": "https://localhost:8080/",
          "height": 286
        },
        "id": "B46i0Q52kziA",
        "outputId": "8becb649-ada0-486c-a755-41ae3ebf76ee"
      },
      "source": [
        "plt.figure()\n",
        "plt.imshow(data_train[38004])\n",
        "plt.colorbar()\n",
        "plt.grid(False)\n",
        "plt.show()\n",
        "\n",
        "#labels_train[20004]\n",
        "\n",
        "i = labels_train[38004].tolist().index(1) \n",
        "print(class_names[i])"
      ],
      "execution_count": 12,
      "outputs": [
        {
          "output_type": "display_data",
          "data": {
            "image/png": "[encoded data removed]",
            "text/plain": [
              "<Figure size 432x288 with 2 Axes>"
            ]
          },
          "metadata": {
            "tags": [],
            "needs_background": "light"
          }
        },
        {
          "output_type": "stream",
          "text": [
            "o\n"
          ],
          "name": "stdout"
        }
      ]
    },
    {
      "cell_type": "code",
      "metadata": {
        "colab": {
          "base_uri": "https://localhost:8080/"
        },
        "id": "3rTQolnglvm7",
        "outputId": "e1c1903b-07ea-460d-891f-0c4776ebdf5b"
      },
      "source": [
        "labels_train.shape"
      ],
      "execution_count": 48,
      "outputs": [
        {
          "output_type": "execute_result",
          "data": {
            "text/plain": [
              "(88799, 26)"
            ]
          },
          "metadata": {
            "tags": []
          },
          "execution_count": 48
        }
      ]
    }
  ]
}